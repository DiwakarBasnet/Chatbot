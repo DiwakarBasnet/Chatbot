{
  "nbformat": 4,
  "nbformat_minor": 0,
  "metadata": {
    "colab": {
      "provenance": [],
      "mount_file_id": "1XHpgKgDkNwUzOMSk2KQX3orMH5qtkq4H",
      "authorship_tag": "ABX9TyOBbITQVQsV0AuD9szMdHg8",
      "include_colab_link": true
    },
    "kernelspec": {
      "name": "python3",
      "display_name": "Python 3"
    },
    "language_info": {
      "name": "python"
    }
  },
  "cells": [
    {
      "cell_type": "markdown",
      "metadata": {
        "id": "view-in-github",
        "colab_type": "text"
      },
      "source": [
        "<a href=\"https://colab.research.google.com/github/DiwakarBasnet/Chatbot/blob/main/youtube_scrapper.ipynb\" target=\"_parent\"><img src=\"https://colab.research.google.com/assets/colab-badge.svg\" alt=\"Open In Colab\"/></a>"
      ]
    },
    {
      "cell_type": "code",
      "execution_count": null,
      "metadata": {
        "colab": {
          "base_uri": "https://localhost:8080/"
        },
        "id": "cpz-_jCVDMDK",
        "outputId": "3fca6065-5714-447c-ef08-fb41bb170441"
      },
      "outputs": [
        {
          "output_type": "stream",
          "name": "stdout",
          "text": [
            "Requirement already satisfied: youtube-search-python in /usr/local/lib/python3.10/dist-packages (1.6.6)\n",
            "Requirement already satisfied: youtube-dl in /usr/local/lib/python3.10/dist-packages (2021.12.17)\n",
            "Requirement already satisfied: youtube-transcript-api in /usr/local/lib/python3.10/dist-packages (0.6.1)\n",
            "Requirement already satisfied: httpx>=0.14.2 in /usr/local/lib/python3.10/dist-packages (from youtube-search-python) (0.24.1)\n",
            "Requirement already satisfied: requests in /usr/local/lib/python3.10/dist-packages (from youtube-transcript-api) (2.27.1)\n",
            "Requirement already satisfied: certifi in /usr/local/lib/python3.10/dist-packages (from httpx>=0.14.2->youtube-search-python) (2023.5.7)\n",
            "Requirement already satisfied: httpcore<0.18.0,>=0.15.0 in /usr/local/lib/python3.10/dist-packages (from httpx>=0.14.2->youtube-search-python) (0.17.2)\n",
            "Requirement already satisfied: idna in /usr/local/lib/python3.10/dist-packages (from httpx>=0.14.2->youtube-search-python) (3.4)\n",
            "Requirement already satisfied: sniffio in /usr/local/lib/python3.10/dist-packages (from httpx>=0.14.2->youtube-search-python) (1.3.0)\n",
            "Requirement already satisfied: urllib3<1.27,>=1.21.1 in /usr/local/lib/python3.10/dist-packages (from requests->youtube-transcript-api) (1.26.16)\n",
            "Requirement already satisfied: charset-normalizer~=2.0.0 in /usr/local/lib/python3.10/dist-packages (from requests->youtube-transcript-api) (2.0.12)\n",
            "Requirement already satisfied: h11<0.15,>=0.13 in /usr/local/lib/python3.10/dist-packages (from httpcore<0.18.0,>=0.15.0->httpx>=0.14.2->youtube-search-python) (0.14.0)\n",
            "Requirement already satisfied: anyio<5.0,>=3.0 in /usr/local/lib/python3.10/dist-packages (from httpcore<0.18.0,>=0.15.0->httpx>=0.14.2->youtube-search-python) (3.7.0)\n",
            "Requirement already satisfied: exceptiongroup in /usr/local/lib/python3.10/dist-packages (from anyio<5.0,>=3.0->httpcore<0.18.0,>=0.15.0->httpx>=0.14.2->youtube-search-python) (1.1.1)\n"
          ]
        }
      ],
      "source": [
        "!pip install youtube-search-python youtube-dl youtube-transcript-api"
      ]
    },
    {
      "cell_type": "code",
      "source": [
        "podcast = \"TheoVon\"\n",
        "theo_playlist_url = \"https://www.youtube.com/playlist?list=PLY155lJX6_wcTzyjW2sGB4sTT5ZkivwnN\""
      ],
      "metadata": {
        "id": "5oKTIYBBDXeF"
      },
      "execution_count": null,
      "outputs": []
    },
    {
      "cell_type": "code",
      "source": [
        "from youtubesearchpython import Playlist\n",
        "\n",
        "def get_videos_from_playlists(playlist_url):\n",
        "  playlist = Playlist(playlist_url)\n",
        "\n",
        "  print(len(playlist.videos))\n",
        "  while playlist.hasMoreVideos:\n",
        "    playlist.getNextVideos()\n",
        "    print(len(playlist.videos))\n",
        "\n",
        "  # reverse our array of videos to have it in the order of release\n",
        "  reverse_playlist = playlist.videos[::-1]\n",
        "  return reverse_playlist"
      ],
      "metadata": {
        "id": "PfmrjXCwD1Ey"
      },
      "execution_count": null,
      "outputs": []
    },
    {
      "cell_type": "code",
      "source": [
        "theovon_videos = get_videos_from_playlists(theo_playlist_url)"
      ],
      "metadata": {
        "colab": {
          "base_uri": "https://localhost:8080/"
        },
        "id": "AwRu0y-YFZ1H",
        "outputId": "0d3fe7da-2d7f-48be-fc03-2b6e0edfee8b"
      },
      "execution_count": null,
      "outputs": [
        {
          "output_type": "stream",
          "name": "stdout",
          "text": [
            "100\n",
            "200\n",
            "300\n",
            "400\n",
            "438\n"
          ]
        }
      ]
    },
    {
      "cell_type": "code",
      "source": [
        "for epi, video in enumerate(theovon_videos, 1):\n",
        "  full_video_url = video['link']\n",
        "\n",
        "  # Remove playlist from link, '&' sign in youtube comes after video link\n",
        "  playlist_idx = full_video_url.find('&')\n",
        "  video_url = full_video_url[:playlist_idx]\n",
        "  print(video_url)\n",
        "  break"
      ],
      "metadata": {
        "colab": {
          "base_uri": "https://localhost:8080/"
        },
        "id": "nU70L2itIx7p",
        "outputId": "13657373-17c1-4054-f7b4-0991600758db"
      },
      "execution_count": null,
      "outputs": [
        {
          "output_type": "stream",
          "name": "stdout",
          "text": [
            "https://www.youtube.com/watch?v=o0jnGzsBdMU\n"
          ]
        }
      ]
    },
    {
      "cell_type": "code",
      "source": [
        "from youtube_transcript_api import YouTubeTranscriptApi\n",
        "from pprint import pprint\n",
        "import csv\n",
        "\n",
        "def get_transcript_from_video(video_id, episode):\n",
        "  transcript_chunks = YouTubeTranscriptApi.get_transcript(video_id, languages=['en-US', 'en'])\n",
        "\n",
        "  with open(f'/content/drive/MyDrive/YouTube-Data/{podcast}/{podcast}-transcripts-v3.csv', 'a', newline='') as f:\n",
        "    writer = csv.writer(f)\n",
        "    writer.writerow(['episode', 'time', 'text'])\n",
        "\n",
        "    for chunk in transcript_chunks:\n",
        "      time = chunk['start']\n",
        "      text = chunk['text']\n",
        "      writer.writerow([episode, time, text])"
      ],
      "metadata": {
        "id": "e_jQ5K9sGI8O"
      },
      "execution_count": null,
      "outputs": []
    },
    {
      "cell_type": "code",
      "source": [
        "get_transcript_from_video('jreBmGkuEBc', 403)"
      ],
      "metadata": {
        "id": "UDa0B8-eNbP0"
      },
      "execution_count": null,
      "outputs": []
    },
    {
      "cell_type": "code",
      "source": [
        "for epi, video in enumerate(theovon_videos[300:], 1):\n",
        "  full_video_url = video['link']\n",
        "\n",
        "  # Remove playlist from link, '&' sign in youtube comes after video link\n",
        "  playlist_idx = full_video_url.find('&')\n",
        "  video_url = full_video_url[:playlist_idx]\n",
        "\n",
        "  # Get video id\n",
        "  vid_idx = video_url.find('=') + 1\n",
        "  video_id = video_url[vid_idx:]\n",
        "\n",
        "  # Skip the video if the sub are disabled in the video\n",
        "  try:\n",
        "    get_transcript_from_video(video_id, epi)\n",
        "  except:\n",
        "    continue\n",
        "\n",
        "print(f'Episode number {epi} added')"
      ],
      "metadata": {
        "colab": {
          "base_uri": "https://localhost:8080/"
        },
        "id": "bgCNFqXSQPbZ",
        "outputId": "496f761e-e1d5-440d-eb5f-abf69596b03a"
      },
      "execution_count": null,
      "outputs": [
        {
          "output_type": "stream",
          "name": "stdout",
          "text": [
            "Episode number 138 added\n"
          ]
        }
      ]
    },
    {
      "cell_type": "code",
      "source": [
        "# joe rogan -> 393 (403)"
      ],
      "metadata": {
        "id": "AZs_EXr5SGYs"
      },
      "execution_count": null,
      "outputs": []
    },
    {
      "cell_type": "code",
      "source": [
        "def get_transcript_from_video_v2(video_id, episode):\n",
        "  transcript_chunks = YouTubeTranscriptApi.get_transcript(video_id, languages=['en-US', 'en'])\n",
        "\n",
        "  with open(f'/content/drive/MyDrive/YouTube-Data/{podcast}/{podcast}-transcripts-v4.csv', 'a', newline='') as f:\n",
        "    writer = csv.writer(f)\n",
        "    writer.writerow(['episode', 'time', 'text'])\n",
        "\n",
        "    for i, chunk in enumerate(transcript_chunks):\n",
        "      if i % 2 == 0 and i + 1 < len(transcript_chunks):\n",
        "        text_1 = transcript_chunks[i]['text']\n",
        "        text_2 = transcript_chunks[i + 1]['text']\n",
        "        combined_text = text_1 + ' ' + text_2\n",
        "        writer.writerow([episode, chunk['start'], combined_text])"
      ],
      "metadata": {
        "id": "f1mssukLXbbt"
      },
      "execution_count": null,
      "outputs": []
    },
    {
      "cell_type": "code",
      "source": [
        "for epi, video in enumerate(theovon_videos, 1):\n",
        "  full_video_url = video['link']\n",
        "\n",
        "  # Remove playlist from link, '&' sign in youtube comes after video link\n",
        "  playlist_idx = full_video_url.find('&')\n",
        "  video_url = full_video_url[:playlist_idx]\n",
        "\n",
        "  # Get video id\n",
        "  vid_idx = video_url.find('=') + 1\n",
        "  video_id = video_url[vid_idx:]\n",
        "\n",
        "  # Skip the video if the sub are disabled in the video\n",
        "  try:\n",
        "    get_transcript_from_video_v2(video_id, epi)\n",
        "  except:\n",
        "    continue\n",
        "\n",
        "print(f'Episode number {epi} added')"
      ],
      "metadata": {
        "colab": {
          "base_uri": "https://localhost:8080/"
        },
        "id": "GvFt9XQ7Zc37",
        "outputId": "d42756bc-ef99-4cd2-d72d-472c317e7a71"
      },
      "execution_count": null,
      "outputs": [
        {
          "output_type": "stream",
          "name": "stdout",
          "text": [
            "Episode number 438 added\n"
          ]
        }
      ]
    },
    {
      "cell_type": "code",
      "source": [],
      "metadata": {
        "id": "1j_3Vci_Zmgn"
      },
      "execution_count": null,
      "outputs": []
    }
  ]
}